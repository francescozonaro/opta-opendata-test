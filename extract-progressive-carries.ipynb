{
 "cells": [
  {
   "cell_type": "code",
   "execution_count": 137,
   "metadata": {},
   "outputs": [],
   "source": [
    "import warnings\n",
    "from statsbombpy.api_client import NoAuthWarning\n",
    "warnings.simplefilter('ignore', NoAuthWarning)\n",
    "from socceraction.data.statsbomb import StatsBombLoader\n",
    "\n",
    "api = StatsBombLoader(getter=\"remote\", creds={\"user\": \"\", \"passwd\": \"\"})"
   ]
  },
  {
   "cell_type": "code",
   "execution_count": 138,
   "metadata": {},
   "outputs": [
    {
     "name": "stdout",
     "output_type": "stream",
     "text": [
      "Albacete vs Barcelona (La Liga Regular Season - 2004/2005)\n",
      "+------+----------+----------+--------------------+---------------------+------------+--------------------+\n",
      "|      |   minute |   second | player_name        | play_pattern_name   |   duration |   distance_carried |\n",
      "|------+----------+----------+--------------------+---------------------+------------+--------------------|\n",
      "|  750 |       19 |       48 | Samuel Eto''o Fils | From Corner         |   0.4738   |               4.6  |\n",
      "| 2118 |       55 |       49 | Samuel Eto''o Fils | Regular Play        |   0.778042 |               1.12 |\n",
      "| 2471 |       65 |       42 | Samuel Eto''o Fils | Regular Play        |   3.38954  |              16.1  |\n",
      "| 2860 |       76 |       16 | Samuel Eto''o Fils | From Free Kick      |   1.517    |              11.5  |\n",
      "| 3019 |       79 |       21 | Samuel Eto''o Fils | Regular Play        |   1.68421  |               8.37 |\n",
      "+------+----------+----------+--------------------+---------------------+------------+--------------------+\n"
     ]
    }
   ],
   "source": [
    "import random\n",
    "import math\n",
    "import matplotsoccer\n",
    "import socceraction.spadl as spadl\n",
    "from tabulate import tabulate\n",
    "import pandas as pd\n",
    "import numpy as np\n",
    "\n",
    "def nice_time(row):\n",
    "    minute = int((row.period_id-1)*45 +row.time_seconds // 60)\n",
    "    second = int(row.time_seconds % 60)\n",
    "    return f\"{minute}m{second}s\"\n",
    "\n",
    "# Function to calculate the Euclidean distance between two points\n",
    "def calculate_distance(start_location, end_location):\n",
    "    distance = np.round(math.sqrt((end_location[0] - start_location[0])**2 + (end_location[1] - start_location[1])**2),2)\n",
    "\n",
    "    return \"{:.2f}\".format(distance)\n",
    "\n",
    "def isProgressive(start_location, end_location):\n",
    "    \n",
    "    if (end_location[1] - start_location[1]) > 1:\n",
    "        return True\n",
    "    else:\n",
    "        return False\n",
    "\n",
    "\n",
    "df_competitions = api.competitions()\n",
    "random_row = df_competitions.sample(1)\n",
    "\n",
    "competition_id = random_row['competition_id'].item()\n",
    "season_id = random_row['season_id'].item()\n",
    "competition_name = random_row['competition_name'].item()\n",
    "season_name = random_row['season_name'].item()\n",
    "\n",
    "df_games = api.games(competition_id=competition_id, season_id=season_id)\n",
    "\n",
    "all_teams = list(df_games['home_team_id'].unique())\n",
    "team_id = random.choice(all_teams)\n",
    "\n",
    "df_games = df_games[(df_games['away_team_id'] == team_id) | (df_games['home_team_id'] == team_id)]\n",
    "all_games = list(df_games['game_id'])\n",
    "g = random.choice(all_games)\n",
    "\n",
    "c_stage = df_games[df_games['game_id'] == g]['competition_stage'].item()\n",
    "df_teams = api.teams(game_id=g)\n",
    "df_players = api.players(game_id=g)\n",
    "df_events = api.events(game_id=g)\n",
    "team_name = df_events[df_events['team_id'] == team_id]['team_name'].iloc[0]\n",
    "teams = list(df_events['team_name'].unique())\n",
    "teams.remove(team_name)\n",
    "\n",
    "c_string = f\"{team_name} vs {teams[0]} ({competition_name} {c_stage} - {season_name})\"\n",
    "print(c_string)\n",
    "\n",
    "carries_df = df_events[df_events[\"type_name\"] == 'Carry'].copy()\n",
    "carries_df['distance_carried'] = carries_df.apply(lambda row: calculate_distance(row['location'], row['extra']['carry']['end_location']), axis=1)\n",
    "carries_df['isProgressive'] = carries_df.apply(lambda row: isProgressive(row['location'], row['extra']['carry']['end_location']), axis=1)\n",
    "carries_df = carries_df[(carries_df['under_pressure'] == True) & (carries_df['isProgressive'] == True)]\n",
    "\n",
    "sum_distance_carried = carries_df.groupby('player_name')['distance_carried'].sum().sort_values(ascending=False).head(5)\n",
    "\n",
    "carries_df = carries_df[carries_df['player_name'] == random.choice(list(sum_distance_carried.index))][['minute', 'second', 'player_name', 'play_pattern_name', 'duration', 'distance_carried']]\n",
    "\n",
    "print(tabulate(carries_df, headers='keys', tablefmt='psql'))\n",
    "\n"
   ]
  }
 ],
 "metadata": {
  "kernelspec": {
   "display_name": "env",
   "language": "python",
   "name": "python3"
  },
  "language_info": {
   "codemirror_mode": {
    "name": "ipython",
    "version": 3
   },
   "file_extension": ".py",
   "mimetype": "text/x-python",
   "name": "python",
   "nbconvert_exporter": "python",
   "pygments_lexer": "ipython3",
   "version": "3.10.8"
  },
  "orig_nbformat": 4
 },
 "nbformat": 4,
 "nbformat_minor": 2
}
